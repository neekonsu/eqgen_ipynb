{
  "nbformat": 4,
  "nbformat_minor": 0,
  "metadata": {
    "colab": {
      "name": "Correlation Between Equine Deafness and Facial Features",
      "version": "0.3.2",
      "provenance": [],
      "collapsed_sections": [],
      "toc_visible": true,
      "include_colab_link": true
    },
    "kernelspec": {
      "name": "python3",
      "display_name": "Python 3"
    },
    "accelerator": "TPU"
  },
  "cells": [
    {
      "cell_type": "markdown",
      "metadata": {
        "id": "view-in-github",
        "colab_type": "text"
      },
      "source": [
        "<a href=\"https://colab.research.google.com/github/neekonsu/eqgen_ipynb/blob/master/Correlation_Between_Equine_Deafness_and_Facial_Features.ipynb\" target=\"_parent\"><img src=\"https://colab.research.google.com/assets/colab-badge.svg\" alt=\"Open In Colab\"/></a>"
      ]
    },
    {
      "metadata": {
        "id": "W8V3M5aYjVQe",
        "colab_type": "text"
      },
      "cell_type": "markdown",
      "source": [
        "#Initial Setup"
      ]
    },
    {
      "metadata": {
        "id": "QaE1mK1fqUhZ",
        "colab_type": "text"
      },
      "cell_type": "markdown",
      "source": [
        "\n",
        "###Import main libraries"
      ]
    },
    {
      "metadata": {
        "id": "Hs9fiWHbiQ4H",
        "colab_type": "code",
        "colab": {}
      },
      "cell_type": "code",
      "source": [
        "# import main ML libraries \n",
        "import numpy as np\n",
        "import pandas as pd\n",
        "import matplotlib.pyplot as plt\n",
        "import tensorflow as tf\n",
        "from tensorflow import keras\n",
        "# for image processing, we import openCV\n",
        "import cv2\n",
        "# for interfacing with filesystem\n",
        "import os\n",
        "# for using randomness\n",
        "from random import shuffle\n",
        "# for listing progress bars where we need them\n",
        "from tqdm import tqdm\n",
        "# for converting png to jpg\n",
        "from PIL import Image\n",
        "# for building recursive file array\n",
        "from glob import glob \n",
        "# FORMAT MATPLOTLIB\n",
        "%matplotlib inline"
      ],
      "execution_count": 0,
      "outputs": []
    },
    {
      "metadata": {
        "id": "Uz0vRipsNdBN",
        "colab_type": "text"
      },
      "cell_type": "markdown",
      "source": [
        "###Clone Git Repository (batch)"
      ]
    },
    {
      "metadata": {
        "id": "pROOYYQDNkn6",
        "colab_type": "code",
        "outputId": "2896e38f-dc56-4812-b1bc-ef91c748043d",
        "colab": {
          "base_uri": "https://localhost:8080/",
          "height": 150
        }
      },
      "cell_type": "code",
      "source": [
        "try:\n",
        "  assert os.listdir('/content/eqgen_batch')\n",
        "except:\n",
        "  !git clone https://github.com/neekonsu/eqgen_batch.git"
      ],
      "execution_count": 2,
      "outputs": [
        {
          "output_type": "stream",
          "text": [
            "Cloning into 'eqgen_batch'...\n",
            "remote: Enumerating objects: 93, done.\u001b[K\n",
            "remote: Counting objects: 100% (93/93), done.\u001b[K\n",
            "remote: Compressing objects: 100% (93/93), done.\u001b[K\n",
            "remote: Total 93 (delta 0), reused 93 (delta 0), pack-reused 0\u001b[K\n",
            "Unpacking objects: 100% (93/93), done.\n"
          ],
          "name": "stdout"
        }
      ]
    },
    {
      "metadata": {
        "id": "tsNFM-JVqYFk",
        "colab_type": "text"
      },
      "cell_type": "markdown",
      "source": [
        "###Set initial variables"
      ]
    },
    {
      "metadata": {
        "id": "75RAtNPoqa6a",
        "colab_type": "code",
        "colab": {}
      },
      "cell_type": "code",
      "source": [
        "# paths to raw data\n",
        "batch_path = '/content/eqgen_batch'\n",
        "false_path = '/content/eqgen_batch/0'\n",
        "true_path =  '/content/eqgen_batch/1'\n",
        "# feature - label variables\n",
        "x = []\n",
        "y = []"
      ],
      "execution_count": 0,
      "outputs": []
    },
    {
      "metadata": {
        "id": "9Wir2RhG_EJS",
        "colab_type": "text"
      },
      "cell_type": "markdown",
      "source": [
        "### **Authenticate with google**"
      ]
    },
    {
      "metadata": {
        "id": "ZBORRGeejTZT",
        "colab_type": "code",
        "colab": {}
      },
      "cell_type": "code",
      "source": [
        "# from google.colab import drive\n",
        "# # Mount google drive filesystem to /content/gdrive/My Drive/*\n",
        "# drive.mount('/content/gdrive')"
      ],
      "execution_count": 0,
      "outputs": []
    },
    {
      "metadata": {
        "id": "ErV2shHX_VLa",
        "colab_type": "text"
      },
      "cell_type": "markdown",
      "source": [
        "###Init drive service (v3)"
      ]
    },
    {
      "metadata": {
        "id": "JxhbA2EtzL6w",
        "colab_type": "code",
        "outputId": "6f4ea62b-5d2c-4281-9623-1294bdf7cf3a",
        "colab": {
          "base_uri": "https://localhost:8080/",
          "height": 592
        }
      },
      "cell_type": "code",
      "source": [
        "print('Hearing horses (0)')\n",
        "!ls '/content/eqgen_batch/0'"
      ],
      "execution_count": 5,
      "outputs": [
        {
          "output_type": "stream",
          "text": [
            "Hearing horses (0)\n",
            "abigail-verberne-1179842-unsplash.jpg\n",
            "adam-jang-314067-unsplash.jpg\n",
            "alexandra-zota-1242250-unsplash.jpg\n",
            "alex-blajan-119661-unsplash.jpg\n",
            "alice-donovan-rouse-115131-unsplash.jpg\n",
            "annie-spratt-207738-unsplash.jpg\n",
            "annie-spratt-587023-unsplash.jpg\n",
            "carlee-dittemore-1226247-unsplash.jpg\n",
            "courtney-miller-1230955-unsplash.jpg\n",
            "crystal-huff-757104-unsplash.jpg\n",
            "danny-gallegos-355559-unsplash.jpg\n",
            "darius-soodmand-118384-unsplash.jpg\n",
            "florian-van-duyn-387776-unsplash.jpg\n",
            "gene-devine-476058-unsplash.jpg\n",
            "ghost-presenter-425367-unsplash.jpg\n",
            "james-coleman-1210076-unsplash.jpg\n",
            "joanne-o-keefe-270785-unsplash.jpg\n",
            "liam-martens-716280-unsplash.jpg\n",
            "lily-banse-460652-unsplash.jpg\n",
            "lukas-l-452028-unsplash.jpg\n",
            "melanie-hartshorn-348846-unsplash.jpg\n",
            "michael-mroczek-115985-unsplash.jpg\n",
            "nicolas-j-leclercq-1141089-unsplash.jpg\n",
            "paolo-nicolello-1171866-unsplash.jpg\n",
            "peter-kisteman-329830-unsplash.jpg\n",
            "randy-fath-667618-unsplash.jpg\n",
            "randy-fath-736175-unsplash.jpg\n",
            "revolt-386471-unsplash.jpg\n",
            "samantha-scholl-157435-unsplash.jpg\n",
            "vincent-botta-276146-unsplash.jpg\n",
            "waqas-arshad-1158480-unsplash.jpg\n"
          ],
          "name": "stdout"
        }
      ]
    },
    {
      "metadata": {
        "id": "90Xc3W6c-w4l",
        "colab_type": "code",
        "outputId": "40558ab2-e1e0-4514-bb0d-da1a9f7abf1d",
        "colab": {
          "base_uri": "https://localhost:8080/",
          "height": 1173
        }
      },
      "cell_type": "code",
      "source": [
        "print('Deaf horses (1)')\n",
        "!ls '/content/eqgen_batch/1'"
      ],
      "execution_count": 6,
      "outputs": [
        {
          "output_type": "stream",
          "text": [
            "Deaf horses (1)\n",
            "'1655930_10152876159715960_1332774283920715435_n (1).jpg'\n",
            " 1655930_10152876159715960_1332774283920715435_n.jpg\n",
            " 16962_1201287838262_1410553281_30489563_4324513_n-300x225.jpg\n",
            " 19139_1309272405249_1033766008_30956817_4480404_n-225x300.jpg\n",
            " 25272_1344971737710_1033766008_31050554_2864086_n-300x238.jpg\n",
            "'37852155_10156550080655960_5003683379976077312_o (1).jpg'\n",
            " 37852155_10156550080655960_5003683379976077312_o.jpg\n",
            "'37853970_10156550080000960_4414984096887865344_n (1).png'\n",
            " 37853970_10156550080000960_4414984096887865344_n.png\n",
            " 41706122_10156677046735960_5167040244876312576_n.jpg\n",
            " 42297474_10156687915410960_1788544808642412544_n.png\n",
            " 42749174_10156704324275960_6505795329294598144_n.png\n",
            "'44032542_10156743316045960_6073517715744620544_n (1).jpg'\n",
            " 44032542_10156743316045960_6073517715744620544_n.jpg\n",
            " 44395302_10156758646395960_5481495541013544960_n.jpg\n",
            "'45742689_10156808706615960_8187578173060284416_o (1).jpg'\n",
            " 45742689_10156808706615960_8187578173060284416_o.jpg\n",
            " 45754048_10156808706820960_658585101143113728_o.jpg\n",
            "'45783547_10156808706545960_418658615851745280_o (1).jpg'\n",
            " 45783547_10156808706545960_418658615851745280_o.jpg\n",
            " 45801763_10156808706670960_5762628556723060736_o.jpg\n",
            " 46118114_10156808706765960_8705940662232547328_o.jpg\n",
            " 46384937_10156827654140960_4352674463704154112_o.jpg\n",
            "'46454524_10156827654155960_4596089175404445696_o (1).jpg'\n",
            " 46454524_10156827654155960_4596089175404445696_o.jpg\n",
            " 48418750_10156910169320960_302738908821585920_n.jpg\n",
            " 88A.jpg\n",
            "'942208_10151663561390960_818164739_n (1).jpg'\n",
            " 942208_10151663561390960_818164739_n.jpg\n",
            " alibisfillylft2days.jpg\n",
            " angellft85.jpg\n",
            "'Blue - Deaf Horse.jpg'\n",
            "'download (10).jpeg'\n",
            "'download (1).jpeg'\n",
            "'download (2).jpeg'\n",
            "'download (3).jpeg'\n",
            "'download (4).jpeg'\n",
            "'download (5).jpeg'\n",
            "'download (6).jpeg'\n",
            "'download (7).jpeg'\n",
            "'download (8).jpeg'\n",
            "'download (9).jpeg'\n",
            " download.jpeg\n",
            " gunner-235x300.jpg\n",
            " hqdefault.jpg\n",
            "'images (1).jpeg'\n",
            "'images (2).jpeg'\n",
            "'images (3).jpeg'\n",
            "'images (4).jpeg'\n",
            "'images (5).jpeg'\n",
            "'images (6).jpeg'\n",
            "'images (7).jpeg'\n",
            "'images (8).jpeg'\n",
            "'images (9).jpeg'\n",
            " images.jpeg\n",
            " indy809.jpg\n",
            " karatsteppinout5413.jpg\n",
            " maggielft514.jpg\n",
            " mercedeslft610.jpg\n",
            " missheadshot.jpg\n",
            " P1050079.jpg\n",
            " pearl2jogcart.jpg\n",
            " pearllft814.jpg\n",
            " pearlonbridge.jpg\n",
            " TH-LEGACY-IMAGE-ID-710-pinto-foal-in-pasture-1280x640.jpg\n",
            " winnerrt71610.jpg\n",
            " withpearl81014.jpg\n"
          ],
          "name": "stdout"
        }
      ]
    },
    {
      "metadata": {
        "id": "yYE5WaC7A2of",
        "colab_type": "text"
      },
      "cell_type": "markdown",
      "source": [
        "#Handle Data"
      ]
    },
    {
      "metadata": {
        "id": "AsCsIVopr3rc",
        "colab_type": "text"
      },
      "cell_type": "markdown",
      "source": [
        "##def one-hot encoder function"
      ]
    },
    {
      "metadata": {
        "id": "AqtRr1PUr24m",
        "colab_type": "code",
        "outputId": "04ea887e-556c-45d2-e932-547e25f132ab",
        "colab": {
          "base_uri": "https://localhost:8080/",
          "height": 105
        }
      },
      "cell_type": "code",
      "source": [
        "# (1) indicates deafness, (0) indicates hearing; encoded in onehot\n",
        "def ohl(e):\n",
        "  if e == 1:\n",
        "    ohl = np.array([1,0])\n",
        "  elif e == 0:\n",
        "    ohl = np.array([0,1])\n",
        "  return ohl\n",
        "# checking function behavior\n",
        "print(\"deaf:\")\n",
        "print(ohl(1))\n",
        "\n",
        "print(\"hearing:\")\n",
        "print(ohl(0))"
      ],
      "execution_count": 7,
      "outputs": [
        {
          "output_type": "stream",
          "text": [
            "deaf:\n",
            "[1 0]\n",
            "hearing:\n",
            "[0 1]\n"
          ],
          "name": "stdout"
        }
      ]
    },
    {
      "metadata": {
        "id": "Sa6woRSRyXvS",
        "colab_type": "text"
      },
      "cell_type": "markdown",
      "source": [
        "##def image filetype homogenizer (to .jpg)"
      ]
    },
    {
      "metadata": {
        "id": "F_jih17QQGjK",
        "colab_type": "text"
      },
      "cell_type": "markdown",
      "source": [
        "###.jpeg -> .jpg"
      ]
    },
    {
      "metadata": {
        "id": "ZL1OrNiIyu3j",
        "colab_type": "code",
        "outputId": "71a67719-f79c-46b1-ec10-acf435b3cae2",
        "colab": {
          "base_uri": "https://localhost:8080/",
          "height": 76
        }
      },
      "cell_type": "code",
      "source": [
        "# homogenize hearing horses (0)\n",
        "for filename in tqdm(os.listdir(false_path)):\n",
        "  # set iterator count for refactored filenames\n",
        "  i = 0\n",
        "  # convert .jpeg to .jpg for consistency and shorter filename length\n",
        "  if filename.endswith(\".jpeg\"):\n",
        "    # split filename by base and extention (base.ext -> 'base', 'ext')\n",
        "    # send filename components to respective variables\n",
        "    pre, ext = os.path.splitext(filename)\n",
        "    # rename file as iterator.jpg\n",
        "    # I am now realizing that the pre, ext filename split was never used\n",
        "    os.rename(os.path.join(false_path, filename), str(i) + \".jpg\")\n",
        "#   # increment iterator\n",
        "  i += 1\n",
        "# print refactored filelist to confirm refactoring success\n",
        "print(os.listdir(false_path))"
      ],
      "execution_count": 8,
      "outputs": [
        {
          "output_type": "stream",
          "text": [
            "100%|██████████| 31/31 [00:00<00:00, 13251.47it/s]"
          ],
          "name": "stderr"
        },
        {
          "output_type": "stream",
          "text": [
            "['liam-martens-716280-unsplash.jpg', 'alexandra-zota-1242250-unsplash.jpg', 'peter-kisteman-329830-unsplash.jpg', 'crystal-huff-757104-unsplash.jpg', 'courtney-miller-1230955-unsplash.jpg', 'michael-mroczek-115985-unsplash.jpg', 'samantha-scholl-157435-unsplash.jpg', 'gene-devine-476058-unsplash.jpg', 'darius-soodmand-118384-unsplash.jpg', 'alice-donovan-rouse-115131-unsplash.jpg', 'alex-blajan-119661-unsplash.jpg', 'james-coleman-1210076-unsplash.jpg', 'annie-spratt-207738-unsplash.jpg', 'nicolas-j-leclercq-1141089-unsplash.jpg', 'randy-fath-667618-unsplash.jpg', 'danny-gallegos-355559-unsplash.jpg', 'randy-fath-736175-unsplash.jpg', 'revolt-386471-unsplash.jpg', 'ghost-presenter-425367-unsplash.jpg', 'florian-van-duyn-387776-unsplash.jpg', 'adam-jang-314067-unsplash.jpg', 'lily-banse-460652-unsplash.jpg', 'joanne-o-keefe-270785-unsplash.jpg', 'vincent-botta-276146-unsplash.jpg', 'annie-spratt-587023-unsplash.jpg', 'carlee-dittemore-1226247-unsplash.jpg', 'waqas-arshad-1158480-unsplash.jpg', 'melanie-hartshorn-348846-unsplash.jpg', 'lukas-l-452028-unsplash.jpg', 'abigail-verberne-1179842-unsplash.jpg', 'paolo-nicolello-1171866-unsplash.jpg']\n"
          ],
          "name": "stdout"
        },
        {
          "output_type": "stream",
          "text": [
            "\n"
          ],
          "name": "stderr"
        }
      ]
    },
    {
      "metadata": {
        "id": "jYCFXD0z2h0E",
        "colab_type": "code",
        "outputId": "86353be7-06b2-4f34-8d51-eb99d433d35a",
        "colab": {
          "base_uri": "https://localhost:8080/",
          "height": 76
        }
      },
      "cell_type": "code",
      "source": [
        "# homogenize deaf horses (1)\n",
        "for filename in tqdm(os.listdir(true_path)):\n",
        "  # set iterator count for refactored filenames\n",
        "  i = 0\n",
        "  # convert .jpeg to .jpg for consistency and shorter filename length\n",
        "  if filename.endswith(\".jpeg\"):\n",
        "    # split filename by base and extention (base.ext -> 'base', 'ext')\n",
        "    # send filename components to respective variables\n",
        "    pre, ext = os.path.splitext(filename)\n",
        "    # rename file as iterator.jpg\n",
        "    # I am now realizing that the pre, ext filename split was never used\n",
        "    os.rename(os.path.join(true_path, filename), str(i) + \".jpg\")\n",
        "#   # increment iterator\n",
        "  i += 1\n",
        "# print refactored filelist to confirm refactoring success\n",
        "print(os.listdir(true_path))"
      ],
      "execution_count": 9,
      "outputs": [
        {
          "output_type": "stream",
          "text": [
            "100%|██████████| 67/67 [00:00<00:00, 6590.64it/s]"
          ],
          "name": "stderr"
        },
        {
          "output_type": "stream",
          "text": [
            "['withpearl81014.jpg', '45783547_10156808706545960_418658615851745280_o (1).jpg', '37853970_10156550080000960_4414984096887865344_n (1).png', 'indy809.jpg', 'Blue - Deaf Horse.jpg', '46384937_10156827654140960_4352674463704154112_o.jpg', '19139_1309272405249_1033766008_30956817_4480404_n-225x300.jpg', '942208_10151663561390960_818164739_n (1).jpg', '37852155_10156550080655960_5003683379976077312_o (1).jpg', '44395302_10156758646395960_5481495541013544960_n.jpg', '46454524_10156827654155960_4596089175404445696_o.jpg', '942208_10151663561390960_818164739_n.jpg', '48418750_10156910169320960_302738908821585920_n.jpg', 'hqdefault.jpg', '1655930_10152876159715960_1332774283920715435_n (1).jpg', '41706122_10156677046735960_5167040244876312576_n.jpg', '46118114_10156808706765960_8705940662232547328_o.jpg', '42749174_10156704324275960_6505795329294598144_n.png', 'pearl2jogcart.jpg', 'karatsteppinout5413.jpg', '88A.jpg', '45801763_10156808706670960_5762628556723060736_o.jpg', '42297474_10156687915410960_1788544808642412544_n.png', 'gunner-235x300.jpg', '1655930_10152876159715960_1332774283920715435_n.jpg', 'P1050079.jpg', 'alibisfillylft2days.jpg', 'missheadshot.jpg', 'pearlonbridge.jpg', 'pearllft814.jpg', 'maggielft514.jpg', '45742689_10156808706615960_8187578173060284416_o (1).jpg', '44032542_10156743316045960_6073517715744620544_n (1).jpg', 'mercedeslft610.jpg', '44032542_10156743316045960_6073517715744620544_n.jpg', '45754048_10156808706820960_658585101143113728_o.jpg', '46454524_10156827654155960_4596089175404445696_o (1).jpg', 'winnerrt71610.jpg', '45742689_10156808706615960_8187578173060284416_o.jpg', 'angellft85.jpg', '25272_1344971737710_1033766008_31050554_2864086_n-300x238.jpg', 'TH-LEGACY-IMAGE-ID-710-pinto-foal-in-pasture-1280x640.jpg', '16962_1201287838262_1410553281_30489563_4324513_n-300x225.jpg', '45783547_10156808706545960_418658615851745280_o.jpg', '37853970_10156550080000960_4414984096887865344_n.png', '37852155_10156550080655960_5003683379976077312_o.jpg']\n"
          ],
          "name": "stdout"
        },
        {
          "output_type": "stream",
          "text": [
            "\n"
          ],
          "name": "stderr"
        }
      ]
    },
    {
      "metadata": {
        "id": "r_NCsMnNQqOE",
        "colab_type": "text"
      },
      "cell_type": "markdown",
      "source": [
        "###.png -> .jpg"
      ]
    },
    {
      "metadata": {
        "id": "wd6rPkdPQybJ",
        "colab_type": "code",
        "outputId": "6de21cb5-ec69-494e-f482-d9e55c7f454f",
        "colab": {
          "base_uri": "https://localhost:8080/",
          "height": 173
        }
      },
      "cell_type": "code",
      "source": [
        "# homogenize deaf horses (1)\n",
        "\n",
        "# construct file array\n",
        "pngs = glob('/content/eqgen_batch/1/*.png')\n",
        "# iterate array^^ for .png -> .jpg conversion\n",
        "print('converting .png: \\n')\n",
        "for j in tqdm(pngs):\n",
        "  # open image for editing\n",
        "  img = cv2.imread(j)\n",
        "  # write new filetype\n",
        "  cv2.imwrite(j[:-3] + 'jpg', img)\n",
        "# print refactored filelist to confirm refactoring success\n",
        "print(pngs)\n",
        "# remove.png residue\n",
        "print('removing duplicates: \\n')\n",
        "for i in tqdm(pngs):\n",
        "  os.remove(i)\n",
        "print('.png ->.jpg done.')"
      ],
      "execution_count": 10,
      "outputs": [
        {
          "output_type": "stream",
          "text": [
            "\r  0%|          | 0/4 [00:00<?, ?it/s]"
          ],
          "name": "stderr"
        },
        {
          "output_type": "stream",
          "text": [
            "converting .png: \n",
            "\n"
          ],
          "name": "stdout"
        },
        {
          "output_type": "stream",
          "text": [
            "100%|██████████| 4/4 [00:00<00:00, 36.69it/s]\n",
            "100%|██████████| 4/4 [00:00<00:00, 3946.65it/s]"
          ],
          "name": "stderr"
        },
        {
          "output_type": "stream",
          "text": [
            "['/content/eqgen_batch/1/37853970_10156550080000960_4414984096887865344_n (1).png', '/content/eqgen_batch/1/42749174_10156704324275960_6505795329294598144_n.png', '/content/eqgen_batch/1/42297474_10156687915410960_1788544808642412544_n.png', '/content/eqgen_batch/1/37853970_10156550080000960_4414984096887865344_n.png']\n",
            "removing duplicates: \n",
            "\n",
            ".png ->.jpg done.\n"
          ],
          "name": "stdout"
        },
        {
          "output_type": "stream",
          "text": [
            "\n"
          ],
          "name": "stderr"
        }
      ]
    },
    {
      "metadata": {
        "id": "5OtnHfkfpfcw",
        "colab_type": "text"
      },
      "cell_type": "markdown",
      "source": [
        "###Refactor Images"
      ]
    },
    {
      "metadata": {
        "id": "MZISjJzHugP1",
        "colab_type": "code",
        "outputId": "50ce3eea-ca3d-48d0-ff98-8b1fea533b17",
        "colab": {
          "base_uri": "https://localhost:8080/",
          "height": 110
        }
      },
      "cell_type": "code",
      "source": [
        "# check paths\n",
        "\n",
        "#(0)\n",
        "print(\"hearing path:\")\n",
        "print(os.listdir(false_path))\n",
        "# (1)\n",
        "print(\"deaf path:\")\n",
        "print(os.listdir(true_path))"
      ],
      "execution_count": 11,
      "outputs": [
        {
          "output_type": "stream",
          "text": [
            "hearing path:\n",
            "['liam-martens-716280-unsplash.jpg', 'alexandra-zota-1242250-unsplash.jpg', 'peter-kisteman-329830-unsplash.jpg', 'crystal-huff-757104-unsplash.jpg', 'courtney-miller-1230955-unsplash.jpg', 'michael-mroczek-115985-unsplash.jpg', 'samantha-scholl-157435-unsplash.jpg', 'gene-devine-476058-unsplash.jpg', 'darius-soodmand-118384-unsplash.jpg', 'alice-donovan-rouse-115131-unsplash.jpg', 'alex-blajan-119661-unsplash.jpg', 'james-coleman-1210076-unsplash.jpg', 'annie-spratt-207738-unsplash.jpg', 'nicolas-j-leclercq-1141089-unsplash.jpg', 'randy-fath-667618-unsplash.jpg', 'danny-gallegos-355559-unsplash.jpg', 'randy-fath-736175-unsplash.jpg', 'revolt-386471-unsplash.jpg', 'ghost-presenter-425367-unsplash.jpg', 'florian-van-duyn-387776-unsplash.jpg', 'adam-jang-314067-unsplash.jpg', 'lily-banse-460652-unsplash.jpg', 'joanne-o-keefe-270785-unsplash.jpg', 'vincent-botta-276146-unsplash.jpg', 'annie-spratt-587023-unsplash.jpg', 'carlee-dittemore-1226247-unsplash.jpg', 'waqas-arshad-1158480-unsplash.jpg', 'melanie-hartshorn-348846-unsplash.jpg', 'lukas-l-452028-unsplash.jpg', 'abigail-verberne-1179842-unsplash.jpg', 'paolo-nicolello-1171866-unsplash.jpg']\n",
            "deaf path:\n",
            "['withpearl81014.jpg', '45783547_10156808706545960_418658615851745280_o (1).jpg', 'indy809.jpg', '37853970_10156550080000960_4414984096887865344_n.jpg', 'Blue - Deaf Horse.jpg', '46384937_10156827654140960_4352674463704154112_o.jpg', '19139_1309272405249_1033766008_30956817_4480404_n-225x300.jpg', '942208_10151663561390960_818164739_n (1).jpg', '37852155_10156550080655960_5003683379976077312_o (1).jpg', '44395302_10156758646395960_5481495541013544960_n.jpg', '46454524_10156827654155960_4596089175404445696_o.jpg', '942208_10151663561390960_818164739_n.jpg', '48418750_10156910169320960_302738908821585920_n.jpg', 'hqdefault.jpg', '1655930_10152876159715960_1332774283920715435_n (1).jpg', '41706122_10156677046735960_5167040244876312576_n.jpg', '46118114_10156808706765960_8705940662232547328_o.jpg', 'pearl2jogcart.jpg', 'karatsteppinout5413.jpg', '88A.jpg', '45801763_10156808706670960_5762628556723060736_o.jpg', '42749174_10156704324275960_6505795329294598144_n.jpg', 'gunner-235x300.jpg', '1655930_10152876159715960_1332774283920715435_n.jpg', 'P1050079.jpg', '37853970_10156550080000960_4414984096887865344_n (1).jpg', 'alibisfillylft2days.jpg', 'missheadshot.jpg', 'pearlonbridge.jpg', 'pearllft814.jpg', '42297474_10156687915410960_1788544808642412544_n.jpg', 'maggielft514.jpg', '45742689_10156808706615960_8187578173060284416_o (1).jpg', '44032542_10156743316045960_6073517715744620544_n (1).jpg', 'mercedeslft610.jpg', '44032542_10156743316045960_6073517715744620544_n.jpg', '45754048_10156808706820960_658585101143113728_o.jpg', '46454524_10156827654155960_4596089175404445696_o (1).jpg', 'winnerrt71610.jpg', '45742689_10156808706615960_8187578173060284416_o.jpg', 'angellft85.jpg', '25272_1344971737710_1033766008_31050554_2864086_n-300x238.jpg', 'TH-LEGACY-IMAGE-ID-710-pinto-foal-in-pasture-1280x640.jpg', '16962_1201287838262_1410553281_30489563_4324513_n-300x225.jpg', '45783547_10156808706545960_418658615851745280_o.jpg', '37852155_10156550080655960_5003683379976077312_o.jpg']\n"
          ],
          "name": "stdout"
        }
      ]
    },
    {
      "metadata": {
        "id": "_L3-aT4upjXK",
        "colab_type": "code",
        "outputId": "319c6651-3265-4322-bf67-82b38cf56998",
        "colab": {
          "base_uri": "https://localhost:8080/",
          "height": 51
        }
      },
      "cell_type": "code",
      "source": [
        "# sequence and label images of hearing horses (0)\n",
        "i = 0\n",
        "for filename in tqdm(os.listdir(false_path)):\n",
        "  os.rename(os.path.join(false_path, filename), os.path.join(false_path, str(i) + '.jpg'))\n",
        "  i += 1\n",
        "print('done.')"
      ],
      "execution_count": 12,
      "outputs": [
        {
          "output_type": "stream",
          "text": [
            "100%|██████████| 31/31 [00:00<00:00, 19464.58it/s]"
          ],
          "name": "stderr"
        },
        {
          "output_type": "stream",
          "text": [
            "done.\n"
          ],
          "name": "stdout"
        },
        {
          "output_type": "stream",
          "text": [
            "\n"
          ],
          "name": "stderr"
        }
      ]
    },
    {
      "metadata": {
        "id": "LtwYlLOsoeDZ",
        "colab_type": "code",
        "outputId": "a0dc5b81-5b6f-4156-fdd2-46e2ae27b814",
        "colab": {
          "base_uri": "https://localhost:8080/",
          "height": 51
        }
      },
      "cell_type": "code",
      "source": [
        "# sequence and label images of hearing horses (1)\n",
        "i = 0\n",
        "for filename in tqdm(os.listdir(true_path)):\n",
        "  os.rename(os.path.join(true_path, filename), os.path.join(true_path, str(i) + '.jpg'))\n",
        "  i += 1\n",
        "print('done.')"
      ],
      "execution_count": 13,
      "outputs": [
        {
          "output_type": "stream",
          "text": [
            "100%|██████████| 46/46 [00:00<00:00, 17496.87it/s]"
          ],
          "name": "stderr"
        },
        {
          "output_type": "stream",
          "text": [
            "done.\n"
          ],
          "name": "stdout"
        },
        {
          "output_type": "stream",
          "text": [
            "\n"
          ],
          "name": "stderr"
        }
      ]
    },
    {
      "metadata": {
        "id": "9dGPXmRCG1cN",
        "colab_type": "text"
      },
      "cell_type": "markdown",
      "source": [
        "###Load Images"
      ]
    },
    {
      "metadata": {
        "id": "kJUvN-0KGz4K",
        "colab_type": "code",
        "outputId": "8b1fcaa9-e698-44a9-e41a-80b50d7a5923",
        "colab": {
          "base_uri": "https://localhost:8080/",
          "height": 816
        }
      },
      "cell_type": "code",
      "source": [
        "files1 = glob(true_path + '/*.jpg')\n",
        "for myFile in files1:\n",
        "    print(myFile)\n",
        "    image = cv2.imread (myFile, 1)\n",
        "    small = cv2.resize(image, (50, 50))\n",
        "    x.append(image)\n",
        "    y.append(ohl(1))\n",
        "print('Y-data shape:', np.array(y).shape)"
      ],
      "execution_count": 22,
      "outputs": [
        {
          "output_type": "stream",
          "text": [
            "/content/eqgen_batch/1/2.jpg\n",
            "/content/eqgen_batch/1/41.jpg\n",
            "/content/eqgen_batch/1/9.jpg\n",
            "/content/eqgen_batch/1/23.jpg\n",
            "/content/eqgen_batch/1/29.jpg\n",
            "/content/eqgen_batch/1/44.jpg\n",
            "/content/eqgen_batch/1/40.jpg\n",
            "/content/eqgen_batch/1/31.jpg\n",
            "/content/eqgen_batch/1/32.jpg\n",
            "/content/eqgen_batch/1/3.jpg\n",
            "/content/eqgen_batch/1/20.jpg\n",
            "/content/eqgen_batch/1/43.jpg\n",
            "/content/eqgen_batch/1/27.jpg\n",
            "/content/eqgen_batch/1/30.jpg\n",
            "/content/eqgen_batch/1/7.jpg\n",
            "/content/eqgen_batch/1/35.jpg\n",
            "/content/eqgen_batch/1/19.jpg\n",
            "/content/eqgen_batch/1/8.jpg\n",
            "/content/eqgen_batch/1/4.jpg\n",
            "/content/eqgen_batch/1/21.jpg\n",
            "/content/eqgen_batch/1/1.jpg\n",
            "/content/eqgen_batch/1/12.jpg\n",
            "/content/eqgen_batch/1/26.jpg\n",
            "/content/eqgen_batch/1/5.jpg\n",
            "/content/eqgen_batch/1/13.jpg\n",
            "/content/eqgen_batch/1/37.jpg\n",
            "/content/eqgen_batch/1/18.jpg\n",
            "/content/eqgen_batch/1/11.jpg\n",
            "/content/eqgen_batch/1/36.jpg\n",
            "/content/eqgen_batch/1/25.jpg\n",
            "/content/eqgen_batch/1/10.jpg\n",
            "/content/eqgen_batch/1/45.jpg\n",
            "/content/eqgen_batch/1/33.jpg\n",
            "/content/eqgen_batch/1/15.jpg\n",
            "/content/eqgen_batch/1/38.jpg\n",
            "/content/eqgen_batch/1/0.jpg\n",
            "/content/eqgen_batch/1/14.jpg\n",
            "/content/eqgen_batch/1/17.jpg\n",
            "/content/eqgen_batch/1/28.jpg\n",
            "/content/eqgen_batch/1/42.jpg\n",
            "/content/eqgen_batch/1/6.jpg\n",
            "/content/eqgen_batch/1/22.jpg\n",
            "/content/eqgen_batch/1/16.jpg\n",
            "/content/eqgen_batch/1/34.jpg\n",
            "/content/eqgen_batch/1/24.jpg\n",
            "/content/eqgen_batch/1/39.jpg\n",
            "X-data shape: (276,)\n"
          ],
          "name": "stdout"
        }
      ]
    },
    {
      "metadata": {
        "id": "Gx7XRhw7Ym-x",
        "colab_type": "code",
        "colab": {
          "base_uri": "https://localhost:8080/",
          "height": 561
        },
        "outputId": "83c1d389-dbaf-4a3b-98f7-398714a8a931"
      },
      "cell_type": "code",
      "source": [
        "files0 = glob(false_path + '/*.jpg')\n",
        "for myFile in files0:\n",
        "    print(myFile)\n",
        "    image = cv2.imread (myFile, 1)\n",
        "    small = cv2.resize(image, (50, 50))\n",
        "    x.append(image)\n",
        "    y.append(ohl(0))\n",
        "print('X-data shape:', np.array(x).shape)\n",
        "print('Y-data shape:', np.array(y).shape)"
      ],
      "execution_count": 23,
      "outputs": [
        {
          "output_type": "stream",
          "text": [
            "/content/eqgen_batch/0/2.jpg\n",
            "/content/eqgen_batch/0/9.jpg\n",
            "/content/eqgen_batch/0/23.jpg\n",
            "/content/eqgen_batch/0/29.jpg\n",
            "/content/eqgen_batch/0/3.jpg\n",
            "/content/eqgen_batch/0/20.jpg\n",
            "/content/eqgen_batch/0/27.jpg\n",
            "/content/eqgen_batch/0/30.jpg\n",
            "/content/eqgen_batch/0/7.jpg\n",
            "/content/eqgen_batch/0/19.jpg\n",
            "/content/eqgen_batch/0/8.jpg\n",
            "/content/eqgen_batch/0/4.jpg\n",
            "/content/eqgen_batch/0/21.jpg\n",
            "/content/eqgen_batch/0/1.jpg\n",
            "/content/eqgen_batch/0/12.jpg\n",
            "/content/eqgen_batch/0/26.jpg\n",
            "/content/eqgen_batch/0/5.jpg\n",
            "/content/eqgen_batch/0/13.jpg\n",
            "/content/eqgen_batch/0/18.jpg\n",
            "/content/eqgen_batch/0/11.jpg\n",
            "/content/eqgen_batch/0/25.jpg\n",
            "/content/eqgen_batch/0/10.jpg\n",
            "/content/eqgen_batch/0/15.jpg\n",
            "/content/eqgen_batch/0/0.jpg\n",
            "/content/eqgen_batch/0/14.jpg\n",
            "/content/eqgen_batch/0/17.jpg\n",
            "/content/eqgen_batch/0/28.jpg\n",
            "/content/eqgen_batch/0/6.jpg\n",
            "/content/eqgen_batch/0/22.jpg\n",
            "/content/eqgen_batch/0/16.jpg\n",
            "/content/eqgen_batch/0/24.jpg\n",
            "X-data shape: (307,)\n"
          ],
          "name": "stdout"
        }
      ]
    }
  ]
}