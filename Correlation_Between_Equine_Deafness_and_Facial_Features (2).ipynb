{
 "cells": [
  {
   "cell_type": "markdown",
   "metadata": {
    "colab_type": "text",
    "id": "W8V3M5aYjVQe"
   },
   "source": [
    "#Initial Setup"
   ]
  },
  {
   "cell_type": "markdown",
   "metadata": {
    "colab_type": "text",
    "id": "QaE1mK1fqUhZ"
   },
   "source": [
    "###Import main libraries"
   ]
  },
  {
   "cell_type": "code",
   "execution_count": 0,
   "metadata": {
    "colab": {},
    "colab_type": "code",
    "id": "Hs9fiWHbiQ4H"
   },
   "outputs": [],
   "source": [
    "# import main ML libraries \n",
    "import numpy as np\n",
    "import pandas as pd\n",
    "import matplotlib.pyplot as plt\n",
    "import tensorflow as tf\n",
    "from tensorflow import keras\n",
    "# for image processing, we import openCV\n",
    "import cv2 as cv\n",
    "# for interfacing with filesystem\n",
    "import os\n",
    "# for using randomness\n",
    "from random import shuffle\n",
    "# for listing progress bars where we need them\n",
    "from tqdm import tqdm\n",
    "# for converting png to jpg\n",
    "from PIL import Image\n",
    "%matplotlib inline"
   ]
  },
  {
   "cell_type": "markdown",
   "metadata": {
    "colab_type": "text",
    "id": "tsNFM-JVqYFk"
   },
   "source": [
    "###Set initial variables"
   ]
  },
  {
   "cell_type": "code",
   "execution_count": 0,
   "metadata": {
    "colab": {},
    "colab_type": "code",
    "id": "75RAtNPoqa6a"
   },
   "outputs": [],
   "source": [
    "batch_path = '/content/gdrive/My Drive/batchx'\n",
    "false_path = '/content/gdrive/My Drive/batchx/0'\n",
    "true_path =  '/content/gdrive/My Drive/batchx/1'"
   ]
  },
  {
   "cell_type": "markdown",
   "metadata": {
    "colab_type": "text",
    "id": "9Wir2RhG_EJS"
   },
   "source": [
    "### **Authenticate with google**"
   ]
  },
  {
   "cell_type": "code",
   "execution_count": 39,
   "metadata": {
    "colab": {
     "base_uri": "https://localhost:8080/",
     "height": 35
    },
    "colab_type": "code",
    "id": "ZBORRGeejTZT",
    "outputId": "c3840205-3755-4b67-aade-25b3376a5136"
   },
   "outputs": [
    {
     "name": "stdout",
     "output_type": "stream",
     "text": [
      "Drive already mounted at /content/gdrive; to attempt to forcibly remount, call drive.mount(\"/content/gdrive\", force_remount=True).\n"
     ]
    }
   ],
   "source": [
    "from google.colab import drive\n",
    "# Mount google drive filesystem to /content/gdrive/My Drive/*\n",
    "drive.mount('/content/gdrive')"
   ]
  },
  {
   "cell_type": "markdown",
   "metadata": {
    "colab_type": "text",
    "id": "ErV2shHX_VLa"
   },
   "source": [
    "###Init drive service (v3)"
   ]
  },
  {
   "cell_type": "code",
   "execution_count": 40,
   "metadata": {
    "colab": {
     "base_uri": "https://localhost:8080/",
     "height": 570
    },
    "colab_type": "code",
    "id": "JxhbA2EtzL6w",
    "outputId": "984e557a-2eb4-49f7-9098-6e717e1e9687"
   },
   "outputs": [
    {
     "name": "stdout",
     "output_type": "stream",
     "text": [
      "Hearing horses (0)\n",
      "abigail-verberne-1179842-unsplash.jpg\n",
      "adam-jang-314067-unsplash.jpg\n",
      "alexandra-zota-1242250-unsplash.jpg\n",
      "alex-blajan-119661-unsplash.jpg\n",
      "alice-donovan-rouse-115131-unsplash.jpg\n",
      "annie-spratt-207738-unsplash.jpg\n",
      "annie-spratt-587023-unsplash.jpg\n",
      "carlee-dittemore-1226247-unsplash.jpg\n",
      "courtney-miller-1230955-unsplash.jpg\n",
      "crystal-huff-757104-unsplash.jpg\n",
      "danny-gallegos-355559-unsplash.jpg\n",
      "darius-soodmand-118384-unsplash.jpg\n",
      "florian-van-duyn-387776-unsplash.jpg\n",
      "gene-devine-476058-unsplash.jpg\n",
      "ghost-presenter-425367-unsplash.jpg\n",
      "james-coleman-1210076-unsplash.jpg\n",
      "joanne-o-keefe-270785-unsplash.jpg\n",
      "liam-martens-716280-unsplash.jpg\n",
      "lily-banse-460652-unsplash.jpg\n",
      "lukas-l-452028-unsplash.jpg\n",
      "melanie-hartshorn-348846-unsplash.jpg\n",
      "michael-mroczek-115985-unsplash.jpg\n",
      "nicolas-j-leclercq-1141089-unsplash.jpg\n",
      "paolo-nicolello-1171866-unsplash.jpg\n",
      "peter-kisteman-329830-unsplash.jpg\n",
      "randy-fath-667618-unsplash.jpg\n",
      "randy-fath-736175-unsplash.jpg\n",
      "revolt-386471-unsplash.jpg\n",
      "samantha-scholl-157435-unsplash.jpg\n",
      "vincent-botta-276146-unsplash.jpg\n",
      "waqas-arshad-1158480-unsplash.jpg\n"
     ]
    }
   ],
   "source": [
    "print('Hearing horses (0)')\n",
    "!ls '/content/gdrive/My Drive/batchx/0'"
   ]
  },
  {
   "cell_type": "code",
   "execution_count": 41,
   "metadata": {
    "colab": {
     "base_uri": "https://localhost:8080/",
     "height": 1192
    },
    "colab_type": "code",
    "id": "90Xc3W6c-w4l",
    "outputId": "91eecb69-c06a-43c8-ed59-7a83c06b05b4"
   },
   "outputs": [
    {
     "name": "stdout",
     "output_type": "stream",
     "text": [
      "Deaf horses (1)\n",
      "'1655930_10152876159715960_1332774283920715435_n (1).jpg'\n",
      " 1655930_10152876159715960_1332774283920715435_n.jpg\n",
      " 16962_1201287838262_1410553281_30489563_4324513_n-300x225.jpg\n",
      " 19139_1309272405249_1033766008_30956817_4480404_n-225x300.jpg\n",
      " 25272_1344971737710_1033766008_31050554_2864086_n-300x238.jpg\n",
      "'37852155_10156550080655960_5003683379976077312_o (1).jpg'\n",
      " 37852155_10156550080655960_5003683379976077312_o.jpg\n",
      "'37853970_10156550080000960_4414984096887865344_n (1).png'\n",
      " 37853970_10156550080000960_4414984096887865344_n.png\n",
      " 41706122_10156677046735960_5167040244876312576_n.jpg\n",
      " 42297474_10156687915410960_1788544808642412544_n.png\n",
      " 42749174_10156704324275960_6505795329294598144_n.png\n",
      "'44032542_10156743316045960_6073517715744620544_n (1).jpg'\n",
      " 44032542_10156743316045960_6073517715744620544_n.jpg\n",
      " 44395302_10156758646395960_5481495541013544960_n.jpg\n",
      "'45742689_10156808706615960_8187578173060284416_o (1).jpg'\n",
      " 45742689_10156808706615960_8187578173060284416_o.jpg\n",
      " 45754048_10156808706820960_658585101143113728_o.jpg\n",
      "'45783547_10156808706545960_418658615851745280_o (1).jpg'\n",
      " 45783547_10156808706545960_418658615851745280_o.jpg\n",
      " 45801763_10156808706670960_5762628556723060736_o.jpg\n",
      " 46118114_10156808706765960_8705940662232547328_o.jpg\n",
      " 46384937_10156827654140960_4352674463704154112_o.jpg\n",
      "'46454524_10156827654155960_4596089175404445696_o (1).jpg'\n",
      " 46454524_10156827654155960_4596089175404445696_o.jpg\n",
      " 48418750_10156910169320960_302738908821585920_n.jpg\n",
      " 88A.jpg\n",
      "'942208_10151663561390960_818164739_n (1).jpg'\n",
      " 942208_10151663561390960_818164739_n.jpg\n",
      " alibisfillylft2days.jpg\n",
      " angellft85.jpg\n",
      "'Blue - Deaf Horse.jpg'\n",
      "'download (10).jpeg'\n",
      "'download (1).jpeg'\n",
      "'download (2).jpeg'\n",
      "'download (3).jpeg'\n",
      "'download (4).jpeg'\n",
      "'download (5).jpeg'\n",
      "'download (6).jpeg'\n",
      "'download (7).jpeg'\n",
      "'download (8).jpeg'\n",
      "'download (9).jpeg'\n",
      " download.jpeg\n",
      " gunner-235x300.jpg\n",
      " hqdefault.jpg\n",
      "'images (1).jpeg'\n",
      "'images (2).jpeg'\n",
      "'images (3).jpeg'\n",
      "'images (4).jpeg'\n",
      "'images (5).jpeg'\n",
      "'images (6).jpeg'\n",
      "'images (7).jpeg'\n",
      "'images (8).jpeg'\n",
      "'images (9).jpeg'\n",
      " images.jpeg\n",
      " indy809.jpg\n",
      " karatsteppinout5413.jpg\n",
      " maggielft514.jpg\n",
      " mercedeslft610.jpg\n",
      " missheadshot.jpg\n",
      " P1050079.jpg\n",
      " pearl2jogcart.jpg\n",
      " pearllft814.jpg\n",
      " pearlonbridge.jpg\n",
      " TH-LEGACY-IMAGE-ID-710-pinto-foal-in-pasture-1280x640.jpg\n",
      " winnerrt71610.jpg\n",
      " withpearl81014.jpg\n"
     ]
    }
   ],
   "source": [
    "print('Deaf horses (1)')\n",
    "!ls '/content/gdrive/My Drive/batchx/1'from PIL import Image"
   ]
  },
  {
   "cell_type": "markdown",
   "metadata": {
    "colab_type": "text",
    "id": "yYE5WaC7A2of"
   },
   "source": [
    "#Handle Data"
   ]
  },
  {
   "cell_type": "markdown",
   "metadata": {
    "colab_type": "text",
    "id": "AsCsIVopr3rc"
   },
   "source": [
    "###def one-hot encoder function"
   ]
  },
  {
   "cell_type": "code",
   "execution_count": 46,
   "metadata": {
    "colab": {
     "base_uri": "https://localhost:8080/",
     "height": 86
    },
    "colab_type": "code",
    "id": "AqtRr1PUr24m",
    "outputId": "ff19dcfa-d897-454f-fc37-0f9e3a7df357"
   },
   "outputs": [
    {
     "name": "stdout",
     "output_type": "stream",
     "text": [
      "deaf:\n",
      "[1 0]\n",
      "hearing:\n",
      "[0 1]\n"
     ]
    }
   ],
   "source": [
    "# (1) indicates deafness, (0) indicates hearing; encoded in onehot\n",
    "def ohl(e):\n",
    "  if e == 1:\n",
    "    ohl = np.array([1,0])\n",
    "  elif e == 0:\n",
    "    ohl = np.array([0,1])\n",
    "  return ohl\n",
    "# checking function behavior\n",
    "print(\"deaf:\")\n",
    "print(ohl(1))\n",
    "\n",
    "print(\"hearing:\")\n",
    "print(ohl(0))"
   ]
  },
  {
   "cell_type": "markdown",
   "metadata": {
    "colab_type": "text",
    "id": "Sa6woRSRyXvS"
   },
   "source": [
    "###def image filetype homogenizer (to .jpg)"
   ]
  },
  {
   "cell_type": "code",
   "execution_count": 51,
   "metadata": {
    "colab": {
     "base_uri": "https://localhost:8080/",
     "height": 72
    },
    "colab_type": "code",
    "id": "ZL1OrNiIyu3j",
    "outputId": "9b67e068-bd3c-4f33-b6b7-f2a818e03528"
   },
   "outputs": [
    {
     "name": "stderr",
     "output_type": "stream",
     "text": [
      "100%|██████████| 31/31 [00:00<00:00, 11101.73it/s]"
     ]
    },
    {
     "name": "stdout",
     "output_type": "stream",
     "text": [
      "['gene-devine-476058-unsplash.jpg', 'ghost-presenter-425367-unsplash.jpg', 'melanie-hartshorn-348846-unsplash.jpg', 'liam-martens-716280-unsplash.jpg', 'lukas-l-452028-unsplash.jpg', 'peter-kisteman-329830-unsplash.jpg', 'paolo-nicolello-1171866-unsplash.jpg', 'revolt-386471-unsplash.jpg', 'alexandra-zota-1242250-unsplash.jpg', 'crystal-huff-757104-unsplash.jpg', 'alex-blajan-119661-unsplash.jpg', 'annie-spratt-587023-unsplash.jpg', 'abigail-verberne-1179842-unsplash.jpg', 'nicolas-j-leclercq-1141089-unsplash.jpg', 'adam-jang-314067-unsplash.jpg', 'carlee-dittemore-1226247-unsplash.jpg', 'vincent-botta-276146-unsplash.jpg', 'samantha-scholl-157435-unsplash.jpg', 'joanne-o-keefe-270785-unsplash.jpg', 'alice-donovan-rouse-115131-unsplash.jpg', 'lily-banse-460652-unsplash.jpg', 'randy-fath-667618-unsplash.jpg', 'james-coleman-1210076-unsplash.jpg', 'florian-van-duyn-387776-unsplash.jpg', 'darius-soodmand-118384-unsplash.jpg', 'danny-gallegos-355559-unsplash.jpg', 'randy-fath-736175-unsplash.jpg', 'courtney-miller-1230955-unsplash.jpg', 'michael-mroczek-115985-unsplash.jpg', 'annie-spratt-207738-unsplash.jpg', 'waqas-arshad-1158480-unsplash.jpg']\n"
     ]
    },
    {
     "name": "stderr",
     "output_type": "stream",
     "text": [
      "\n"
     ]
    }
   ],
   "source": [
    "# homogenize hearing horses (0)\n",
    "for filename in tqdm(os.listdir(false_path)):\n",
    "  # set iterator count for refactored filenames\n",
    "  i = 0\n",
    "  # convert .jpeg to .jpg for consistency and shorter filename length\n",
    "  if filename.endswith(\".jpeg\"):\n",
    "    # split filename by base and extention (base.ext -> 'base', 'ext')\n",
    "    # send filename components to respective variables\n",
    "    pre, ext = os.path.splitext(filename)\n",
    "    # rename file as iterator.jpg\n",
    "    # I am now realizing that the pre, ext filename split was never used\n",
    "    os.rename(os.path.join(false_path, filename), str(i) + \".jpg\")\n",
    "    # convert .png to .jpg\n",
    "  if filename.endswith(\".png\"):\n",
    "    # use the Pillow library to open image for editing\n",
    "    image = Image.open(filename)\n",
    "    # convert .png data to .jpg data\n",
    "    rgb_image = image.convert('RGB')\n",
    "    # replace original file with iterator.jpg\n",
    "    rgb_image.save(str(i) + '.jpg')\n",
    "  # increment iterator\n",
    "  i += 1\n",
    "# print refactored filelist to confirm refactoring success\n",
    "print(os.listdir(false_path))"
   ]
  },
  {
   "cell_type": "code",
   "execution_count": 56,
   "metadata": {
    "colab": {
     "base_uri": "https://localhost:8080/",
     "height": 252
    },
    "colab_type": "code",
    "id": "jYCFXD0z2h0E",
    "outputId": "d65ee2f2-fa3f-4d4c-b80d-c40e8f299815"
   },
   "outputs": [
    {
     "name": "stderr",
     "output_type": "stream",
     "text": [
      "\r",
      "  0%|          | 0/67 [00:00<?, ?it/s]\n"
     ]
    },
    {
     "ename": "OSError",
     "evalue": "ignored",
     "output_type": "error",
     "traceback": [
      "\u001b[0;31m---------------------------------------------------------------------------\u001b[0m",
      "\u001b[0;31mOSError\u001b[0m                                   Traceback (most recent call last)",
      "\u001b[0;32m<ipython-input-56-6cc161513574>\u001b[0m in \u001b[0;36m<module>\u001b[0;34m()\u001b[0m\n\u001b[1;32m      9\u001b[0m     \u001b[0;31m# rename file as iterator.jpg\u001b[0m\u001b[0;34m\u001b[0m\u001b[0;34m\u001b[0m\u001b[0;34m\u001b[0m\u001b[0m\n\u001b[1;32m     10\u001b[0m     \u001b[0;31m# I am now realizing that the pre, ext filename split was never used\u001b[0m\u001b[0;34m\u001b[0m\u001b[0;34m\u001b[0m\u001b[0;34m\u001b[0m\u001b[0m\n\u001b[0;32m---> 11\u001b[0;31m     \u001b[0mos\u001b[0m\u001b[0;34m.\u001b[0m\u001b[0mrename\u001b[0m\u001b[0;34m(\u001b[0m\u001b[0mos\u001b[0m\u001b[0;34m.\u001b[0m\u001b[0mpath\u001b[0m\u001b[0;34m.\u001b[0m\u001b[0mjoin\u001b[0m\u001b[0;34m(\u001b[0m\u001b[0mtrue_path\u001b[0m\u001b[0;34m,\u001b[0m \u001b[0mfilename\u001b[0m\u001b[0;34m)\u001b[0m\u001b[0;34m,\u001b[0m \u001b[0mstr\u001b[0m\u001b[0;34m(\u001b[0m\u001b[0mi\u001b[0m\u001b[0;34m)\u001b[0m \u001b[0;34m+\u001b[0m \u001b[0;34m\".jpg\"\u001b[0m\u001b[0;34m)\u001b[0m\u001b[0;34m\u001b[0m\u001b[0;34m\u001b[0m\u001b[0m\n\u001b[0m\u001b[1;32m     12\u001b[0m     \u001b[0;31m# convert .png to .jpg\u001b[0m\u001b[0;34m\u001b[0m\u001b[0;34m\u001b[0m\u001b[0;34m\u001b[0m\u001b[0m\n\u001b[1;32m     13\u001b[0m   \u001b[0;32mif\u001b[0m \u001b[0mfilename\u001b[0m\u001b[0;34m.\u001b[0m\u001b[0mendswith\u001b[0m\u001b[0;34m(\u001b[0m\u001b[0;34m\".png\"\u001b[0m\u001b[0;34m)\u001b[0m\u001b[0;34m:\u001b[0m\u001b[0;34m\u001b[0m\u001b[0;34m\u001b[0m\u001b[0m\n",
      "\u001b[0;31mOSError\u001b[0m: [Errno 18] Invalid cross-device link: '/content/gdrive/My Drive/batchx/1/images (3).jpeg' -> '0.jpg'"
     ]
    }
   ],
   "source": [
    "# homogenize deaf horses (1)\n",
    "for filename in tqdm(os.listdir(true_path)):\n",
    "  # set iterator count for refactored filenames\n",
    "  i = 0\n",
    "  # convert .jpeg to .jpg for consistency and shorter filename length\n",
    "  if filename.endswith(\".jpeg\"):\n",
    "    # split filename by base and extention (base.ext -> 'base', 'ext')\n",
    "    # send filename components to respective variables\n",
    "    pre, ext = os.path.splitext(filename)\n",
    "    # rename file as iterator.jpg\n",
    "    # I am now realizing that the pre, ext filename split was never used\n",
    "    os.rename(os.path.join(true_path, filename), str(i) + \".jpg\")\n",
    "    # convert .png to .jpg\n",
    "  if filename.endswith(\".png\"):\n",
    "    # use the Pillow library to open image for editing\n",
    "    image = Image.open(filename)\n",
    "    # convert .png data to .jpg data\n",
    "    rgb_image = image.convert('RGB')\n",
    "    # replace original file with iterator.jpg\n",
    "    rgb_image.save(str(i) + '.jpg')\n",
    "  # increment iterator\n",
    "  i += 1\n",
    "# print refactored filelist to confirm refactoring success\n",
    "print(os.listdir(true_path))"
   ]
  },
  {
   "cell_type": "markdown",
   "metadata": {
    "colab_type": "text",
    "id": "5OtnHfkfpfcw"
   },
   "source": [
    "###Refactor Images"
   ]
  },
  {
   "cell_type": "code",
   "execution_count": 47,
   "metadata": {
    "colab": {
     "base_uri": "https://localhost:8080/",
     "height": 106
    },
    "colab_type": "code",
    "id": "MZISjJzHugP1",
    "outputId": "3e4a15ae-9073-4da1-8665-0d55e1acbe40"
   },
   "outputs": [
    {
     "name": "stdout",
     "output_type": "stream",
     "text": [
      "hearing path:\n",
      "['gene-devine-476058-unsplash.jpg', 'ghost-presenter-425367-unsplash.jpg', 'melanie-hartshorn-348846-unsplash.jpg', 'liam-martens-716280-unsplash.jpg', 'lukas-l-452028-unsplash.jpg', 'peter-kisteman-329830-unsplash.jpg', 'paolo-nicolello-1171866-unsplash.jpg', 'revolt-386471-unsplash.jpg', 'alexandra-zota-1242250-unsplash.jpg', 'crystal-huff-757104-unsplash.jpg', 'alex-blajan-119661-unsplash.jpg', 'annie-spratt-587023-unsplash.jpg', 'abigail-verberne-1179842-unsplash.jpg', 'nicolas-j-leclercq-1141089-unsplash.jpg', 'adam-jang-314067-unsplash.jpg', 'carlee-dittemore-1226247-unsplash.jpg', 'vincent-botta-276146-unsplash.jpg', 'samantha-scholl-157435-unsplash.jpg', 'joanne-o-keefe-270785-unsplash.jpg', 'alice-donovan-rouse-115131-unsplash.jpg', 'lily-banse-460652-unsplash.jpg', 'randy-fath-667618-unsplash.jpg', 'james-coleman-1210076-unsplash.jpg', 'florian-van-duyn-387776-unsplash.jpg', 'darius-soodmand-118384-unsplash.jpg', 'danny-gallegos-355559-unsplash.jpg', 'randy-fath-736175-unsplash.jpg', 'courtney-miller-1230955-unsplash.jpg', 'michael-mroczek-115985-unsplash.jpg', 'annie-spratt-207738-unsplash.jpg', 'waqas-arshad-1158480-unsplash.jpg']\n",
      "deaf path:\n",
      "['45783547_10156808706545960_418658615851745280_o (1).jpg', 'images (3).jpeg', 'mercedeslft610.jpg', 'download (5).jpeg', '45742689_10156808706615960_8187578173060284416_o (1).jpg', '45742689_10156808706615960_8187578173060284416_o.jpg', 'pearl2jogcart.jpg', 'maggielft514.jpg', '19139_1309272405249_1033766008_30956817_4480404_n-225x300.jpg', '25272_1344971737710_1033766008_31050554_2864086_n-300x238.jpg', '37852155_10156550080655960_5003683379976077312_o.jpg', 'images (8).jpeg', 'images (7).jpeg', '42749174_10156704324275960_6505795329294598144_n.png', 'pearlonbridge.jpg', 'download (7).jpeg', 'download (1).jpeg', 'download (3).jpeg', 'download (6).jpeg', '1655930_10152876159715960_1332774283920715435_n (1).jpg', 'karatsteppinout5413.jpg', '46118114_10156808706765960_8705940662232547328_o.jpg', 'P1050079.jpg', '46454524_10156827654155960_4596089175404445696_o (1).jpg', 'Blue - Deaf Horse.jpg', '44032542_10156743316045960_6073517715744620544_n.jpg', '44395302_10156758646395960_5481495541013544960_n.jpg', '88A.jpg', 'pearllft814.jpg', 'images (2).jpeg', 'images (1).jpeg', 'images (5).jpeg', 'images (6).jpeg', '46454524_10156827654155960_4596089175404445696_o.jpg', '1655930_10152876159715960_1332774283920715435_n.jpg', '942208_10151663561390960_818164739_n.jpg', 'indy809.jpg', 'missheadshot.jpg', '37853970_10156550080000960_4414984096887865344_n.png', 'download (4).jpeg', 'download.jpeg', '37852155_10156550080655960_5003683379976077312_o (1).jpg', 'images.jpeg', 'images (9).jpeg', '16962_1201287838262_1410553281_30489563_4324513_n-300x225.jpg', '42297474_10156687915410960_1788544808642412544_n.png', 'gunner-235x300.jpg', 'alibisfillylft2days.jpg', '45801763_10156808706670960_5762628556723060736_o.jpg', 'angellft85.jpg', '37853970_10156550080000960_4414984096887865344_n (1).png', 'images (4).jpeg', 'download (2).jpeg', 'download (9).jpeg', 'download (10).jpeg', 'download (8).jpeg', 'winnerrt71610.jpg', 'withpearl81014.jpg', '48418750_10156910169320960_302738908821585920_n.jpg', '44032542_10156743316045960_6073517715744620544_n (1).jpg', '45783547_10156808706545960_418658615851745280_o.jpg', '942208_10151663561390960_818164739_n (1).jpg', '45754048_10156808706820960_658585101143113728_o.jpg', '46384937_10156827654140960_4352674463704154112_o.jpg', '41706122_10156677046735960_5167040244876312576_n.jpg', 'hqdefault.jpg', 'TH-LEGACY-IMAGE-ID-710-pinto-foal-in-pasture-1280x640.jpg']\n"
     ]
    }
   ],
   "source": [
    "# check paths\n",
    "print(\"hearing path:\")\n",
    "print(os.listdir(false_path))\n",
    "\n",
    "print(\"deaf path:\")\n",
    "print(os.listdir(true_path))"
   ]
  },
  {
   "cell_type": "code",
   "execution_count": 49,
   "metadata": {
    "colab": {
     "base_uri": "https://localhost:8080/",
     "height": 131
    },
    "colab_type": "code",
    "id": "_L3-aT4upjXK",
    "outputId": "8fb87de3-876b-4a09-c36b-1783a1274a7f"
   },
   "outputs": [
    {
     "ename": "SyntaxError",
     "evalue": "ignored",
     "output_type": "error",
     "traceback": [
      "\u001b[0;36m  File \u001b[0;32m\"<ipython-input-49-42390eaf7b58>\"\u001b[0;36m, line \u001b[0;32m3\u001b[0m\n\u001b[0;31m    i++\u001b[0m\n\u001b[0m       ^\u001b[0m\n\u001b[0;31mSyntaxError\u001b[0m\u001b[0;31m:\u001b[0m invalid syntax\n"
     ]
    }
   ],
   "source": [
    "#sequence and label images of hearing horses (0)\n",
    "for filename in tqdm(os.listdir(false_path)):\n",
    "  i = 0\n",
    "  i += 1"
   ]
  },
  {
   "cell_type": "markdown",
   "metadata": {
    "colab_type": "text",
    "id": "9dGPXmRCG1cN"
   },
   "source": [
    "###Load Images"
   ]
  },
  {
   "cell_type": "code",
   "execution_count": 0,
   "metadata": {
    "colab": {},
    "colab_type": "code",
    "id": "kJUvN-0KGz4K"
   },
   "outputs": [],
   "source": []
  }
 ],
 "metadata": {
  "accelerator": "TPU",
  "colab": {
   "name": "Correlation Between Equine Deafness and Facial Features",
   "provenance": [],
   "toc_visible": true,
   "version": "0.3.2"
  },
  "kernelspec": {
   "display_name": "Python 3",
   "language": "python",
   "name": "python3"
  },
  "language_info": {
   "codemirror_mode": {
    "name": "ipython",
    "version": 3
   },
   "file_extension": ".py",
   "mimetype": "text/x-python",
   "name": "python",
   "nbconvert_exporter": "python",
   "pygments_lexer": "ipython3",
   "version": "3.7.1"
  }
 },
 "nbformat": 4,
 "nbformat_minor": 1
}
